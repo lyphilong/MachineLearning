{
  "nbformat": 4,
  "nbformat_minor": 0,
  "metadata": {
    "colab": {
      "name": "ML_TH7.ipynb",
      "provenance": [],
      "collapsed_sections": []
    },
    "language_info": {
      "codemirror_mode": {
        "name": "ipython",
        "version": 3
      },
      "file_extension": ".py",
      "mimetype": "text/x-python",
      "name": "python",
      "nbconvert_exporter": "python",
      "pygments_lexer": "ipython3",
      "version": "3.7.2"
    },
    "kernelspec": {
      "display_name": "Python 3",
      "language": "python",
      "name": "python3"
    }
  },
  "cells": [
    {
      "cell_type": "markdown",
      "metadata": {
        "id": "ZGFBRJdd05ug",
        "colab_type": "text"
      },
      "source": [
        "Về cơ bản, Tensorflow là một thư viện trên python, hỗ trợ các tính toán tensor (block ma trận) nhanh, phù hợp với các bài toán tính toán ma trận nhiều như deep learning.\n",
        "\n",
        "Để lập trình toán tensorflow gồm 2 bước:\n",
        "    1. Lập trình một đồ thị tính toán: trong bước này, chúng ta phải xây dựng một graph (đồ thị) có nhiệm vụ chỉ dẫn các phép toán sẽ lần lượt được chạy như thế nào.\n",
        "    2. Truyền data vào và tính toán.\n",
        "    \n",
        "Ví dụ dưới sẽ hưỡng dẫn lập trình phép tính nhân 2 ma trận 2x2, với 2 ma trận sẽ được truyền vào lúc tính."
      ]
    },
    {
      "cell_type": "code",
      "metadata": {
        "id": "Q7FEFHtfKOue",
        "colab_type": "code",
        "outputId": "aa0028cd-8d96-40cc-e549-6fdc96a0651d",
        "colab": {
          "base_uri": "https://localhost:8080/",
          "height": 121
        }
      },
      "source": [
        "from google.colab import drive\n",
        "drive.mount('/content/gdrive')\n",
        "path=\"gdrive/My Drive/DATASCIENCE/THML/\""
      ],
      "execution_count": 1,
      "outputs": [
        {
          "output_type": "stream",
          "text": [
            "Go to this URL in a browser: https://accounts.google.com/o/oauth2/auth?client_id=947318989803-6bn6qk8qdgf4n4g3pfee6491hc0brc4i.apps.googleusercontent.com&redirect_uri=urn%3aietf%3awg%3aoauth%3a2.0%3aoob&response_type=code&scope=email%20https%3a%2f%2fwww.googleapis.com%2fauth%2fdocs.test%20https%3a%2f%2fwww.googleapis.com%2fauth%2fdrive%20https%3a%2f%2fwww.googleapis.com%2fauth%2fdrive.photos.readonly%20https%3a%2f%2fwww.googleapis.com%2fauth%2fpeopleapi.readonly\n",
            "\n",
            "Enter your authorization code:\n",
            "··········\n",
            "Mounted at /content/gdrive\n"
          ],
          "name": "stdout"
        }
      ]
    },
    {
      "cell_type": "markdown",
      "metadata": {
        "id": "OoLxPMVv05uh",
        "colab_type": "text"
      },
      "source": [
        "## Bước xây dựng graph"
      ]
    },
    {
      "cell_type": "code",
      "metadata": {
        "id": "Ot1F84gR05ui",
        "colab_type": "code",
        "colab": {
          "base_uri": "https://localhost:8080/",
          "height": 62
        },
        "outputId": "de632bc8-2c4b-43ca-dc3e-07ff12a019d6"
      },
      "source": [
        "import tensorflow as tf\n",
        "\n",
        "A_matrix = tf.placeholder(shape=[2,2], dtype=tf.float32)\n",
        "B_matrix = tf.placeholder(shape=[2,2], dtype=tf.float32)"
      ],
      "execution_count": 3,
      "outputs": [
        {
          "output_type": "display_data",
          "data": {
            "text/html": [
              "<p style=\"color: red;\">\n",
              "The default version of TensorFlow in Colab will soon switch to TensorFlow 2.x.<br>\n",
              "We recommend you <a href=\"https://www.tensorflow.org/guide/migrate\" target=\"_blank\">upgrade</a> now \n",
              "or ensure your notebook will continue to use TensorFlow 1.x via the <code>%tensorflow_version 1.x</code> magic:\n",
              "<a href=\"https://colab.research.google.com/notebooks/tensorflow_version.ipynb\" target=\"_blank\">more info</a>.</p>\n"
            ],
            "text/plain": [
              "<IPython.core.display.HTML object>"
            ]
          },
          "metadata": {
            "tags": []
          }
        }
      ]
    },
    {
      "cell_type": "markdown",
      "metadata": {
        "id": "JqVbWEUH05ul",
        "colab_type": "text"
      },
      "source": [
        "placeholder là một chỗ chứa để mình truyền data vào trong lúc tính toán.\n",
        "\n",
        "    shape: chiều của ma trận truyền vào\n",
        "    \n",
        "    dtype: kiểu số"
      ]
    },
    {
      "cell_type": "code",
      "metadata": {
        "id": "_bBjADR_05um",
        "colab_type": "code",
        "colab": {}
      },
      "source": [
        "result_matrix = tf.matmul(A_matrix, B_matrix)"
      ],
      "execution_count": 0,
      "outputs": []
    },
    {
      "cell_type": "markdown",
      "metadata": {
        "id": "ZgDD4DA005up",
        "colab_type": "text"
      },
      "source": [
        "hàm matmul sẽ tạo một node trong graph, node này có nhiệm vụ nhân 2 ma trận với nhau.\n",
        "\n",
        "Như vậy là xong bước tạo graph."
      ]
    },
    {
      "cell_type": "markdown",
      "metadata": {
        "id": "ys876OMu05up",
        "colab_type": "text"
      },
      "source": [
        "## Truyền data vào và tính"
      ]
    },
    {
      "cell_type": "code",
      "metadata": {
        "id": "JtZ1avPu05uq",
        "colab_type": "code",
        "colab": {}
      },
      "source": [
        "session = tf.Session()"
      ],
      "execution_count": 0,
      "outputs": []
    },
    {
      "cell_type": "markdown",
      "metadata": {
        "id": "Jw9U-_dC05us",
        "colab_type": "text"
      },
      "source": [
        "Tensorflow sẽ hoạt động theo từng session (phiên làm việc), \n",
        "nhiều session có thể dùng cùng một graph để tính toán (mặc định là dùng default graph)"
      ]
    },
    {
      "cell_type": "code",
      "metadata": {
        "id": "KxsOZFh-05ut",
        "colab_type": "code",
        "colab": {}
      },
      "source": [
        "import numpy as np\n",
        "A = np.array([[1,2],[3,4]])\n",
        "B = np.array([[5,6],[7,8]])\n",
        "#Giả sử 2 ma trận A và B bên trên là data ta muốn truyền vào để tính toán\n",
        "\n",
        "\n",
        "feed_dict = {A_matrix: A, B_matrix: B}\n",
        "#dòng trên có nhiệm vụ khai báo xem data nào sẽ được truyền vào placeholder nào"
      ],
      "execution_count": 0,
      "outputs": []
    },
    {
      "cell_type": "code",
      "metadata": {
        "id": "fXFEdkrq05uv",
        "colab_type": "code",
        "outputId": "7387d6e3-f314-44ac-b475-80db795f0d25",
        "colab": {
          "base_uri": "https://localhost:8080/",
          "height": 50
        }
      },
      "source": [
        "C = session.run((result_matrix), feed_dict=feed_dict)\n",
        "print(C)"
      ],
      "execution_count": 7,
      "outputs": [
        {
          "output_type": "stream",
          "text": [
            "[[19. 22.]\n",
            " [43. 50.]]\n"
          ],
          "name": "stdout"
        }
      ]
    },
    {
      "cell_type": "markdown",
      "metadata": {
        "id": "0BGHefVR05uy",
        "colab_type": "text"
      },
      "source": [
        "hàm run trên có nhiệm vụ thực hiện tính toán, với feed_dict đã được khai báo ở dòng trước\n",
        "hàm Session.run(tensor, feed_dict)\n",
        "\n",
        "    tensor: là node trong graph mình muốn thực hiện tính toán và trả về\n",
        "    \n",
        "    feed_dict: kiểu dict, có nhiệm vụ khai báo data nào truyền vào placeholder nào"
      ]
    },
    {
      "cell_type": "markdown",
      "metadata": {
        "id": "5S4l0nWk05uy",
        "colab_type": "text"
      },
      "source": [
        "Tiếp theo, chúng ta sẽ thực nghiệm với  bài toán Linear Regression đã làm ở bài thực hành một với Gradient Descent của Tensorflow."
      ]
    },
    {
      "cell_type": "code",
      "metadata": {
        "id": "955xuKdx05uz",
        "colab_type": "code",
        "outputId": "9036aec8-d8ce-4e5e-8145-8a4fd9bab0a5",
        "colab": {
          "base_uri": "https://localhost:8080/",
          "height": 195
        }
      },
      "source": [
        "import pandas as pd\n",
        "data = pd.read_csv(path+\"english_score.csv\")\n",
        "data.head()"
      ],
      "execution_count": 8,
      "outputs": [
        {
          "output_type": "execute_result",
          "data": {
            "text/html": [
              "<div>\n",
              "<style scoped>\n",
              "    .dataframe tbody tr th:only-of-type {\n",
              "        vertical-align: middle;\n",
              "    }\n",
              "\n",
              "    .dataframe tbody tr th {\n",
              "        vertical-align: top;\n",
              "    }\n",
              "\n",
              "    .dataframe thead th {\n",
              "        text-align: right;\n",
              "    }\n",
              "</style>\n",
              "<table border=\"1\" class=\"dataframe\">\n",
              "  <thead>\n",
              "    <tr style=\"text-align: right;\">\n",
              "      <th></th>\n",
              "      <th>TOEFL Score</th>\n",
              "      <th>GRE Score</th>\n",
              "    </tr>\n",
              "  </thead>\n",
              "  <tbody>\n",
              "    <tr>\n",
              "      <th>0</th>\n",
              "      <td>118</td>\n",
              "      <td>337</td>\n",
              "    </tr>\n",
              "    <tr>\n",
              "      <th>1</th>\n",
              "      <td>107</td>\n",
              "      <td>324</td>\n",
              "    </tr>\n",
              "    <tr>\n",
              "      <th>2</th>\n",
              "      <td>104</td>\n",
              "      <td>316</td>\n",
              "    </tr>\n",
              "    <tr>\n",
              "      <th>3</th>\n",
              "      <td>110</td>\n",
              "      <td>322</td>\n",
              "    </tr>\n",
              "    <tr>\n",
              "      <th>4</th>\n",
              "      <td>103</td>\n",
              "      <td>314</td>\n",
              "    </tr>\n",
              "  </tbody>\n",
              "</table>\n",
              "</div>"
            ],
            "text/plain": [
              "   TOEFL Score  GRE Score\n",
              "0          118        337\n",
              "1          107        324\n",
              "2          104        316\n",
              "3          110        322\n",
              "4          103        314"
            ]
          },
          "metadata": {
            "tags": []
          },
          "execution_count": 8
        }
      ]
    },
    {
      "cell_type": "code",
      "metadata": {
        "id": "tBM-9wJ305u2",
        "colab_type": "code",
        "colab": {}
      },
      "source": [
        "X = data[\"TOEFL Score\"].values.reshape(-1,1)\n",
        "y = data[\"GRE Score\"].values.reshape(-1,1)"
      ],
      "execution_count": 0,
      "outputs": []
    },
    {
      "cell_type": "code",
      "metadata": {
        "id": "WUw-EgIv05vA",
        "colab_type": "code",
        "outputId": "50dc1464-727f-45a8-db9f-d46d62efe8a4",
        "colab": {
          "base_uri": "https://localhost:8080/",
          "height": 34
        }
      },
      "source": [
        "#Tạo graph\n",
        "\n",
        "\"\"\"\n",
        "Ta đang muốn dự đoán y khi đã biết X.\n",
        "\n",
        "Đầu tiên phải tạo 2 placeholder để chứa X và y.\n",
        "\"\"\"\n",
        "\n",
        "X_holder = tf.placeholder(shape=[None, 1], dtype=tf.float32)\n",
        "y_holder = tf.placeholder(shape=[None, 1], dtype=tf.float32)\n",
        "\n",
        "\"\"\"\n",
        "X_holder có nhiệm vụ nhận điểm TOEFL Score vào graph\n",
        "y_holder có nhiệm vụ nhận điểm GRE Score đúng, sử dụng như label trong quá trình train\n",
        "\n",
        "None trong shape thể hiện số dòng của data không xác định trước khi tính toán.\n",
        "\"\"\"\n",
        "\n",
        "theta_0 = tf.Variable(0.0, dtype=tf.float32)\n",
        "theta_1 = tf.Variable(0.0, dtype=tf.float32)\n",
        "\n",
        "\"\"\"\n",
        "Khai báo theta_0 và theta_1 như Variable, tức là các biến này sẽ được thay đổi, được \"học\" sao cho loss tốt nhất\n",
        "\n",
        " tf.Variable(init_value, dtype)\n",
        "     init_value: giá trị khởi tạo\n",
        "     dtype: kiểu dữ liệu\n",
        "\"\"\"\n",
        "\n",
        "y_hat = X_holder*theta_1 + theta_0\n",
        "\n",
        "\"\"\"\n",
        "y_hat là sẽ y mình dự đoán, các phép tính * và + trên được tính theo từng dòng, y_hat sẽ có shape [None, 1]\n",
        "\"\"\"\n",
        "\n",
        "loss = tf.square(y_hat - y_holder)\n",
        "\"\"\"\n",
        "ở dòng trên ta thực hiện tính loss theo từng dòng, phép - là phép tính trên từng dòng,\n",
        "tf.square sẽ bình phương từng phẩn tử\n",
        "\"\"\"\n",
        "\n",
        "average_loss = tf.reduce_mean(loss)\n",
        "\n",
        "\"\"\"\n",
        "dòng trên thực hiện tính loss trung bình trên toàn bộ data, shape của average_loss là [1]\n",
        "\n",
        "average_loss chính là loss chúng ta cần minimize\n",
        "\"\"\"\n",
        "\n",
        "train_step = tf.train.AdamOptimizer(learning_rate=0.005).minimize(average_loss)\n",
        "\n",
        "\"\"\"\n",
        "dòng trên sẽ tạo một node trên graph, node này có nhiệm vụ thực hiện \"train\", \n",
        "tức là sẽ thay đổi theta_0 và theta_1 sao cho minimize được node average_loss.\n",
        "\n",
        "AdamOptimizer là biến thể của Gradient Descent trong đó learning rate sẽ tự động được điều chỉnh\n",
        "learning_rate: là tốc độ học khởi tạo theo thuật toán\n",
        "\"\"\"\n",
        "print()"
      ],
      "execution_count": 10,
      "outputs": [
        {
          "output_type": "stream",
          "text": [
            "\n"
          ],
          "name": "stdout"
        }
      ]
    },
    {
      "cell_type": "code",
      "metadata": {
        "id": "hhSc3M8K05v5",
        "colab_type": "code",
        "outputId": "74f6ee6c-c770-4c73-f80e-415b5a2fc716",
        "colab": {
          "base_uri": "https://localhost:8080/",
          "height": 1000
        }
      },
      "source": [
        "#chạy\n",
        "\n",
        "sess = tf.Session()\n",
        "\n",
        "sess.run(tf.global_variables_initializer())\n",
        "#khởi tạo tất cả các biến trong graph trong session\n",
        "\n",
        "for i in range(47000):\n",
        "    sess.run((train_step), feed_dict={X_holder: X, y_holder: y})\n",
        "    #Chạy bước training\n",
        "    \n",
        "    if i % 100 == 0:\n",
        "        cur_loss = sess.run((average_loss), feed_dict={X_holder: X, y_holder: y})\n",
        "        print(\"Current loss: \", cur_loss)\n",
        "        #Tính xem loss hiện tạo là bao nhiêu\n",
        "        \n",
        "a, b = sess.run((theta_1, theta_0))\n",
        "print(a,b)\n",
        "#Do theta_0 và theta_1 không phụ thuộc vào placeholder, nên không cần phải khai bào data truyền vào"
      ],
      "execution_count": 11,
      "outputs": [
        {
          "output_type": "stream",
          "text": [
            "Current loss:  99939.19\n",
            "Current loss:  69526.37\n",
            "Current loss:  46690.13\n",
            "Current loss:  30167.951\n",
            "Current loss:  18678.688\n",
            "Current loss:  11041.693\n",
            "Current loss:  6215.9243\n",
            "Current loss:  3332.3445\n",
            "Current loss:  1710.78\n",
            "Current loss:  856.1906\n",
            "Current loss:  435.60718\n",
            "Current loss:  242.88438\n",
            "Current loss:  160.88052\n",
            "Current loss:  128.55905\n",
            "Current loss:  116.7883\n",
            "Current loss:  112.83821\n",
            "Current loss:  111.619865\n",
            "Current loss:  111.27424\n",
            "Current loss:  111.18335\n",
            "Current loss:  111.15975\n",
            "Current loss:  111.15222\n",
            "Current loss:  111.14796\n",
            "Current loss:  111.144226\n",
            "Current loss:  111.140396\n",
            "Current loss:  111.13632\n",
            "Current loss:  111.13205\n",
            "Current loss:  111.127525\n",
            "Current loss:  111.12275\n",
            "Current loss:  111.117714\n",
            "Current loss:  111.11242\n",
            "Current loss:  111.10688\n",
            "Current loss:  111.101\n",
            "Current loss:  111.0948\n",
            "Current loss:  111.08825\n",
            "Current loss:  111.08135\n",
            "Current loss:  111.074104\n",
            "Current loss:  111.0665\n",
            "Current loss:  111.058464\n",
            "Current loss:  111.050026\n",
            "Current loss:  111.04113\n",
            "Current loss:  111.03179\n",
            "Current loss:  111.02191\n",
            "Current loss:  111.011604\n",
            "Current loss:  111.00071\n",
            "Current loss:  110.989265\n",
            "Current loss:  110.97717\n",
            "Current loss:  110.96448\n",
            "Current loss:  110.95119\n",
            "Current loss:  110.93719\n",
            "Current loss:  110.92248\n",
            "Current loss:  110.90697\n",
            "Current loss:  110.89071\n",
            "Current loss:  110.87355\n",
            "Current loss:  110.855576\n",
            "Current loss:  110.83669\n",
            "Current loss:  110.81679\n",
            "Current loss:  110.79586\n",
            "Current loss:  110.773865\n",
            "Current loss:  110.75083\n",
            "Current loss:  110.726555\n",
            "Current loss:  110.70108\n",
            "Current loss:  110.67425\n",
            "Current loss:  110.64612\n",
            "Current loss:  110.61646\n",
            "Current loss:  110.58541\n",
            "Current loss:  110.55278\n",
            "Current loss:  110.51846\n",
            "Current loss:  110.48239\n",
            "Current loss:  110.44448\n",
            "Current loss:  110.404724\n",
            "Current loss:  110.36288\n",
            "Current loss:  110.319084\n",
            "Current loss:  110.27297\n",
            "Current loss:  110.22456\n",
            "Current loss:  110.17373\n",
            "Current loss:  110.12043\n",
            "Current loss:  110.064316\n",
            "Current loss:  110.00555\n",
            "Current loss:  109.94388\n",
            "Current loss:  109.87913\n",
            "Current loss:  109.811165\n",
            "Current loss:  109.73985\n",
            "Current loss:  109.66509\n",
            "Current loss:  109.586685\n",
            "Current loss:  109.50438\n",
            "Current loss:  109.41821\n",
            "Current loss:  109.32781\n",
            "Current loss:  109.23314\n",
            "Current loss:  109.13394\n",
            "Current loss:  109.02999\n",
            "Current loss:  108.92121\n",
            "Current loss:  108.80734\n",
            "Current loss:  108.688225\n",
            "Current loss:  108.563644\n",
            "Current loss:  108.433365\n",
            "Current loss:  108.29722\n",
            "Current loss:  108.155014\n",
            "Current loss:  108.006546\n",
            "Current loss:  107.85165\n",
            "Current loss:  107.690094\n",
            "Current loss:  107.52173\n",
            "Current loss:  107.34637\n",
            "Current loss:  107.16383\n",
            "Current loss:  106.974014\n",
            "Current loss:  106.77674\n",
            "Current loss:  106.571945\n",
            "Current loss:  106.35948\n",
            "Current loss:  106.13923\n",
            "Current loss:  105.91122\n",
            "Current loss:  105.67533\n",
            "Current loss:  105.43164\n",
            "Current loss:  105.18012\n",
            "Current loss:  104.92073\n",
            "Current loss:  104.653656\n",
            "Current loss:  104.37885\n",
            "Current loss:  104.09666\n",
            "Current loss:  103.80709\n",
            "Current loss:  103.51036\n",
            "Current loss:  103.20666\n",
            "Current loss:  102.896225\n",
            "Current loss:  102.57932\n",
            "Current loss:  102.256195\n",
            "Current loss:  101.9271\n",
            "Current loss:  101.5924\n",
            "Current loss:  101.25237\n",
            "Current loss:  100.907364\n",
            "Current loss:  100.55774\n",
            "Current loss:  100.20369\n",
            "Current loss:  99.84566\n",
            "Current loss:  99.48395\n",
            "Current loss:  99.118866\n",
            "Current loss:  98.750694\n",
            "Current loss:  98.379814\n",
            "Current loss:  98.00645\n",
            "Current loss:  97.63088\n",
            "Current loss:  97.25341\n",
            "Current loss:  96.87425\n",
            "Current loss:  96.49375\n",
            "Current loss:  96.111984\n",
            "Current loss:  95.7293\n",
            "Current loss:  95.34585\n",
            "Current loss:  94.96182\n",
            "Current loss:  94.577354\n",
            "Current loss:  94.19268\n",
            "Current loss:  93.80787\n",
            "Current loss:  93.42322\n",
            "Current loss:  93.03866\n",
            "Current loss:  92.6545\n",
            "Current loss:  92.27062\n",
            "Current loss:  91.88735\n",
            "Current loss:  91.5047\n",
            "Current loss:  91.12268\n",
            "Current loss:  90.74144\n",
            "Current loss:  90.361084\n",
            "Current loss:  89.98163\n",
            "Current loss:  89.60313\n",
            "Current loss:  89.22563\n",
            "Current loss:  88.849205\n",
            "Current loss:  88.47393\n",
            "Current loss:  88.09978\n",
            "Current loss:  87.726814\n",
            "Current loss:  87.35511\n",
            "Current loss:  86.98461\n",
            "Current loss:  86.61539\n",
            "Current loss:  86.247505\n",
            "Current loss:  85.88092\n",
            "Current loss:  85.51563\n",
            "Current loss:  85.15189\n",
            "Current loss:  84.78934\n",
            "Current loss:  84.42826\n",
            "Current loss:  84.06864\n",
            "Current loss:  83.71051\n",
            "Current loss:  83.35381\n",
            "Current loss:  82.9983\n",
            "Current loss:  82.6443\n",
            "Current loss:  82.29175\n",
            "Current loss:  81.94069\n",
            "Current loss:  81.59107\n",
            "Current loss:  81.24293\n",
            "Current loss:  80.89628\n",
            "Current loss:  80.551346\n",
            "Current loss:  80.207924\n",
            "Current loss:  79.865875\n",
            "Current loss:  79.5254\n",
            "Current loss:  79.1863\n",
            "Current loss:  78.848724\n",
            "Current loss:  78.51261\n",
            "Current loss:  78.17801\n",
            "Current loss:  77.84504\n",
            "Current loss:  77.51361\n",
            "Current loss:  77.18374\n",
            "Current loss:  76.855286\n",
            "Current loss:  76.52841\n",
            "Current loss:  76.20537\n",
            "Current loss:  75.87932\n",
            "Current loss:  75.557106\n",
            "Current loss:  75.236404\n",
            "Current loss:  74.91717\n",
            "Current loss:  74.59954\n",
            "Current loss:  74.283424\n",
            "Current loss:  73.96975\n",
            "Current loss:  73.65581\n",
            "Current loss:  73.34523\n",
            "Current loss:  73.03435\n",
            "Current loss:  72.725815\n",
            "Current loss:  72.41904\n",
            "Current loss:  72.11345\n",
            "Current loss:  71.809616\n",
            "Current loss:  71.507195\n",
            "Current loss:  71.206345\n",
            "Current loss:  70.90702\n",
            "Current loss:  70.60921\n",
            "Current loss:  70.31304\n",
            "Current loss:  70.018295\n",
            "Current loss:  69.72497\n",
            "Current loss:  69.43325\n",
            "Current loss:  69.14789\n",
            "Current loss:  68.854416\n",
            "Current loss:  68.57164\n",
            "Current loss:  68.28157\n",
            "Current loss:  67.99894\n",
            "Current loss:  67.714874\n",
            "Current loss:  67.43407\n",
            "Current loss:  67.15425\n",
            "Current loss:  66.876144\n",
            "Current loss:  66.59959\n",
            "Current loss:  66.32502\n",
            "Current loss:  66.05106\n",
            "Current loss:  65.77908\n",
            "Current loss:  65.51062\n",
            "Current loss:  65.23957\n",
            "Current loss:  64.97212\n",
            "Current loss:  64.706154\n",
            "Current loss:  64.44177\n",
            "Current loss:  64.179115\n",
            "Current loss:  63.917492\n",
            "Current loss:  63.657696\n",
            "Current loss:  63.399094\n",
            "Current loss:  63.142376\n",
            "Current loss:  62.887005\n",
            "Current loss:  62.632988\n",
            "Current loss:  62.380665\n",
            "Current loss:  62.129677\n",
            "Current loss:  61.880318\n",
            "Current loss:  61.632652\n",
            "Current loss:  61.386147\n",
            "Current loss:  61.141315\n",
            "Current loss:  60.89889\n",
            "Current loss:  60.65614\n",
            "Current loss:  60.415886\n",
            "Current loss:  60.17704\n",
            "Current loss:  59.94039\n",
            "Current loss:  59.70384\n",
            "Current loss:  59.4699\n",
            "Current loss:  59.23684\n",
            "Current loss:  59.005943\n",
            "Current loss:  58.775673\n",
            "Current loss:  58.547497\n",
            "Current loss:  58.320763\n",
            "Current loss:  58.095398\n",
            "Current loss:  57.87151\n",
            "Current loss:  57.64968\n",
            "Current loss:  57.428314\n",
            "Current loss:  57.209023\n",
            "Current loss:  56.99566\n",
            "Current loss:  56.77473\n",
            "Current loss:  56.559982\n",
            "Current loss:  56.346626\n",
            "Current loss:  56.137707\n",
            "Current loss:  55.924313\n",
            "Current loss:  55.715733\n",
            "Current loss:  55.507946\n",
            "Current loss:  55.301994\n",
            "Current loss:  55.09763\n",
            "Current loss:  54.894634\n",
            "Current loss:  54.69832\n",
            "Current loss:  54.493183\n",
            "Current loss:  54.294804\n",
            "Current loss:  54.09773\n",
            "Current loss:  53.902164\n",
            "Current loss:  53.708084\n",
            "Current loss:  53.515522\n",
            "Current loss:  53.324425\n",
            "Current loss:  53.13488\n",
            "Current loss:  52.94679\n",
            "Current loss:  52.760048\n",
            "Current loss:  52.57483\n",
            "Current loss:  52.391083\n",
            "Current loss:  52.20889\n",
            "Current loss:  52.02826\n",
            "Current loss:  51.848793\n",
            "Current loss:  51.67118\n",
            "Current loss:  51.49466\n",
            "Current loss:  51.320217\n",
            "Current loss:  51.14641\n",
            "Current loss:  50.977642\n",
            "Current loss:  50.80402\n",
            "Current loss:  50.635086\n",
            "Current loss:  50.467422\n",
            "Current loss:  50.301327\n",
            "Current loss:  50.13673\n",
            "Current loss:  49.97359\n",
            "Current loss:  49.814247\n",
            "Current loss:  49.651592\n",
            "Current loss:  49.49278\n",
            "Current loss:  49.33925\n",
            "Current loss:  49.17958\n",
            "Current loss:  49.02523\n",
            "Current loss:  48.872135\n",
            "Current loss:  48.720615\n",
            "Current loss:  48.57073\n",
            "Current loss:  48.421967\n",
            "Current loss:  48.27484\n",
            "Current loss:  48.12904\n",
            "Current loss:  47.98477\n",
            "Current loss:  47.84201\n",
            "Current loss:  47.7005\n",
            "Current loss:  47.56071\n",
            "Current loss:  47.42202\n",
            "Current loss:  47.284973\n",
            "Current loss:  47.14935\n",
            "Current loss:  47.015266\n",
            "Current loss:  46.882305\n",
            "Current loss:  46.750988\n",
            "Current loss:  46.621075\n",
            "Current loss:  46.49552\n",
            "Current loss:  46.365574\n",
            "Current loss:  46.241447\n",
            "Current loss:  46.11574\n",
            "Current loss:  45.994915\n",
            "Current loss:  45.87161\n",
            "Current loss:  45.75622\n",
            "Current loss:  45.633064\n",
            "Current loss:  45.517296\n",
            "Current loss:  45.400272\n",
            "Current loss:  45.287746\n",
            "Current loss:  45.173107\n",
            "Current loss:  45.065166\n",
            "Current loss:  44.951458\n",
            "Current loss:  44.843567\n",
            "Current loss:  44.735535\n",
            "Current loss:  44.629654\n",
            "Current loss:  44.52519\n",
            "Current loss:  44.422024\n",
            "Current loss:  44.320328\n",
            "Current loss:  44.220013\n",
            "Current loss:  44.12105\n",
            "Current loss:  44.02351\n",
            "Current loss:  43.927376\n",
            "Current loss:  43.832592\n",
            "Current loss:  43.739162\n",
            "Current loss:  43.647125\n",
            "Current loss:  43.556458\n",
            "Current loss:  43.467148\n",
            "Current loss:  43.37937\n",
            "Current loss:  43.292583\n",
            "Current loss:  43.207348\n",
            "Current loss:  43.123425\n",
            "Current loss:  43.0409\n",
            "Current loss:  42.95969\n",
            "Current loss:  42.879818\n",
            "Current loss:  42.80126\n",
            "Current loss:  42.724125\n",
            "Current loss:  42.64829\n",
            "Current loss:  42.57396\n",
            "Current loss:  42.50056\n",
            "Current loss:  42.42946\n",
            "Current loss:  42.35816\n",
            "Current loss:  42.2889\n",
            "Current loss:  42.220966\n",
            "Current loss:  42.15428\n",
            "Current loss:  42.088943\n",
            "Current loss:  42.02494\n",
            "Current loss:  41.962154\n",
            "Current loss:  41.900673\n",
            "Current loss:  41.8406\n",
            "Current loss:  41.781548\n",
            "Current loss:  41.72619\n",
            "Current loss:  41.667526\n",
            "Current loss:  41.612396\n",
            "Current loss:  41.558537\n",
            "Current loss:  41.505943\n",
            "Current loss:  41.4545\n",
            "Current loss:  41.404366\n",
            "Current loss:  41.35542\n",
            "Current loss:  41.307693\n",
            "Current loss:  41.261166\n",
            "Current loss:  41.216198\n",
            "Current loss:  41.171734\n",
            "Current loss:  41.131344\n",
            "Current loss:  41.086964\n",
            "Current loss:  41.046368\n",
            "Current loss:  41.00692\n",
            "Current loss:  40.968674\n",
            "Current loss:  40.93452\n",
            "Current loss:  40.89552\n",
            "Current loss:  40.860725\n",
            "Current loss:  40.8269\n",
            "Current loss:  40.79426\n",
            "Current loss:  40.763866\n",
            "Current loss:  40.732243\n",
            "Current loss:  40.702976\n",
            "Current loss:  40.67447\n",
            "Current loss:  40.6472\n",
            "Current loss:  40.62105\n",
            "Current loss:  40.595673\n",
            "Current loss:  40.57145\n",
            "Current loss:  40.54853\n",
            "Current loss:  40.52602\n",
            "Current loss:  40.504757\n",
            "Current loss:  40.48442\n",
            "Current loss:  40.465103\n",
            "Current loss:  40.446545\n",
            "Current loss:  40.428986\n",
            "Current loss:  40.412224\n",
            "Current loss:  40.3964\n",
            "Current loss:  40.381363\n",
            "Current loss:  40.36717\n",
            "Current loss:  40.359966\n",
            "Current loss:  40.341213\n",
            "Current loss:  40.32936\n",
            "Current loss:  40.31826\n",
            "Current loss:  40.30783\n",
            "Current loss:  40.29813\n",
            "Current loss:  40.28913\n",
            "Current loss:  40.2807\n",
            "Current loss:  40.278877\n",
            "Current loss:  40.265717\n",
            "Current loss:  40.259064\n",
            "Current loss:  40.25297\n",
            "Current loss:  40.247353\n",
            "Current loss:  40.242256\n",
            "Current loss:  40.24014\n",
            "Current loss:  40.23336\n",
            "Current loss:  40.22953\n",
            "Current loss:  40.226112\n",
            "Current loss:  40.223015\n",
            "Current loss:  40.221226\n",
            "Current loss:  40.217777\n",
            "Current loss:  40.215633\n",
            "Current loss:  40.213688\n",
            "Current loss:  40.211945\n",
            "Current loss:  40.21049\n",
            "Current loss:  40.209152\n",
            "Current loss:  40.208046\n",
            "Current loss:  40.20707\n",
            "Current loss:  40.2062\n",
            "Current loss:  40.20592\n",
            "Current loss:  40.204884\n",
            "Current loss:  40.20745\n",
            "Current loss:  40.203896\n",
            "Current loss:  40.20351\n",
            "Current loss:  40.203182\n",
            "Current loss:  40.206676\n",
            "Current loss:  40.202698\n",
            "Current loss:  40.202526\n",
            "Current loss:  40.202328\n",
            "Current loss:  40.204193\n",
            "Current loss:  40.202095\n",
            "Current loss:  40.202007\n",
            "Current loss:  40.20194\n",
            "Current loss:  40.201878\n",
            "Current loss:  40.202286\n",
            "Current loss:  40.201782\n",
            "Current loss:  40.201748\n",
            "Current loss:  40.201725\n",
            "Current loss:  40.201702\n",
            "Current loss:  40.20562\n",
            "Current loss:  40.201664\n",
            "Current loss:  40.20165\n",
            "1.537324 151.68307\n"
          ],
          "name": "stdout"
        }
      ]
    },
    {
      "cell_type": "code",
      "metadata": {
        "id": "V5zdm2sh05v7",
        "colab_type": "code",
        "outputId": "4fb4168a-f352-4b56-a702-a89e6c50a4db",
        "colab": {
          "base_uri": "https://localhost:8080/",
          "height": 279
        }
      },
      "source": [
        "#Vẽ a, b dự đoán được\n",
        "import matplotlib.pyplot as plt\n",
        "\n",
        "plt.scatter(X, y)\n",
        "xx = np.linspace(90, 120)\n",
        "plt.plot(xx, xx*a+b)\n",
        "plt.xlabel('TOEFL Score')\n",
        "plt.ylabel('GRE Score')\n",
        "plt.show()"
      ],
      "execution_count": 12,
      "outputs": [
        {
          "output_type": "display_data",
          "data": {
            "image/png": "[encoded data removed]",
            "text/plain": [
              "<Figure size 432x288 with 1 Axes>"
            ]
          },
          "metadata": {
            "tags": []
          }
        }
      ]
    },
    {
      "cell_type": "markdown",
      "metadata": {
        "id": "v3TRvNT_05v-",
        "colab_type": "text"
      },
      "source": [
        "# Bài tập"
      ]
    },
    {
      "cell_type": "markdown",
      "metadata": {
        "id": "Yaol7FV705v_",
        "colab_type": "text"
      },
      "source": [
        "1. Hãy điều chỉnh Learning Rate và số vòng lặp sao cho nó hội tụ nhanh và tốt hơn.\n",
        "\n",
        "Vẽ kết quả chạy được\n",
        "\n",
        "---\n",
        "\n",
        "learning rate: 0,005\n",
        "số vòng lặp: 47000"
      ]
    },
    {
      "cell_type": "markdown",
      "metadata": {
        "id": "aUqU7N5N05v_",
        "colab_type": "text"
      },
      "source": [
        "2. Hãy chạy node y_hat với data truyền vào là mảng test_X ở dưới để đoán xem nhưng người có điểm TOEFL như phía dưới được bao nhiều điểm GRE\n",
        "\n",
        "\n",
        "\n"
      ]
    },
    {
      "cell_type": "code",
      "metadata": {
        "id": "vcYdU2ry05wA",
        "colab_type": "code",
        "outputId": "ae27e2a2-b377-4f2c-b46f-c3824c212757",
        "colab": {
          "base_uri": "https://localhost:8080/",
          "height": 101
        }
      },
      "source": [
        "test_X = np.array([[95],[100],[102.5],[110],[117.1]])\n",
        "for i in range(5):\n",
        "  test_y =  test_X[i]*a + b\n",
        "  print(test_y)"
      ],
      "execution_count": 13,
      "outputs": [
        {
          "output_type": "stream",
          "text": [
            "[297.72885036]\n",
            "[305.41547012]\n",
            "[309.25878]\n",
            "[320.78870964]\n",
            "[331.7037097]\n"
          ],
          "name": "stdout"
        }
      ]
    },
    {
      "cell_type": "markdown",
      "metadata": {
        "id": "OsXikhwB05wC",
        "colab_type": "text"
      },
      "source": [
        "3. Như ta đã biết Linear Regression có nghiệm chính xác khi giải bằng đại số là $(X^T*X)^{-1}*X^T*y$\n",
        "\n",
        "Trong đó:\n",
        "\n",
        "    $X$: là ma trận data có thêm một cột toàn số 1\n",
        "    \n",
        "    $X^T$: là chuyển vị của $X$\n",
        "    \n",
        "    $X^{-1}$: là ma trận nghịch đảo của $X$\n",
        "    \n",
        "    $y $là vector cột\n",
        "    \n",
        "    phép * đều là phép nhân ma trận (không phải nhân từng phẩn tử khi lập trình)\n",
        "\n",
        "Dùng Tensorflow hãy lập trình để tính theta chỉ bằng các phép toán đại số như trên.\n",
        "\n",
        "Gợi ý dùng các hàm:\n",
        "\n",
        "    tf.matmul(A, B): nhân 2 ma trận A và B\n",
        "    \n",
        "    tf.pad(X, [[0,0],[0,1], \"CONSTANT\", constant_values=1.0): thêm một cột toàn số 1 vào X\n",
        "    \n",
        "    tf.linalg.inv(X): tìm ma trận nghịch đảo của X\n",
        "    \n",
        "    tf.transpose(X): tìm ma trận chuyển vị của X\n",
        "    \n",
        "Vẽ kết quả chạy được\n",
        "\n"
      ]
    },
    {
      "cell_type": "code",
      "metadata": {
        "id": "ISz_6GKZ05wC",
        "colab_type": "code",
        "outputId": "2fe74591-4ffe-41de-aa04-c595063b3bd2",
        "colab": {
          "base_uri": "https://localhost:8080/",
          "height": 50
        }
      },
      "source": [
        "#GRE = theta_1*(TOEFL)+theta_0\n",
        "padding = tf.constant([[0,0],[0,1]])\n",
        "Xbar = tf.pad(X, padding, \"CONSTANT\", constant_values=1)\n",
        "_A = tf.matmul(tf.transpose(Xbar), Xbar)\n",
        "_b = tf.matmul(tf.transpose(Xbar), y)\n",
        "\n",
        "A = tf.cast(_A, tf.float64)\n",
        "b = tf.cast(_b, tf.float64)\n",
        "\n",
        "\n",
        "A_T=tf.linalg.inv(A)\n",
        "theta = tf.matmul(A_T, b)\n",
        "\n",
        "sess = tf.Session()\n",
        "print(sess.run(theta))\n"
      ],
      "execution_count": 14,
      "outputs": [
        {
          "output_type": "stream",
          "text": [
            "[[  1.5362635 ]\n",
            " [151.79684301]]\n"
          ],
          "name": "stdout"
        }
      ]
    },
    {
      "cell_type": "code",
      "metadata": {
        "id": "4lG9F4dNTczx",
        "colab_type": "code",
        "colab": {}
      },
      "source": [
        ""
      ],
      "execution_count": 0,
      "outputs": []
    }
  ]
}